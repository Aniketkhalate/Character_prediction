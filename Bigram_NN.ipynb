{
 "cells": [
  {
   "cell_type": "code",
   "execution_count": 6,
   "id": "240f92c5-89a6-42f7-8ad6-4847e82d02c8",
   "metadata": {},
   "outputs": [],
   "source": [
    "import torch\n",
    "import torch.nn.functional as F"
   ]
  },
  {
   "cell_type": "code",
   "execution_count": 2,
   "id": "544e73e2-45fe-413a-b2b9-43716243041e",
   "metadata": {},
   "outputs": [],
   "source": [
    "words = open('names.txt', 'r').read().splitlines()"
   ]
  },
  {
   "cell_type": "code",
   "execution_count": 3,
   "id": "77380937-237d-4dd1-90c1-fcff7617b2bf",
   "metadata": {},
   "outputs": [],
   "source": [
    "#There will be 26 characerts a-z and one extra character '.'\n",
    "N = torch.zeros((27,27), dtype = torch.int32)"
   ]
  },
  {
   "cell_type": "code",
   "execution_count": 4,
   "id": "fa738b52-22d5-46f3-9f58-9b1003017f94",
   "metadata": {},
   "outputs": [],
   "source": [
    "#Look-up table for integer to character and vice-versa\n",
    "chars = sorted(list(set(''.join(words))))\n",
    "stoi = {s: i+1 for i,s in enumerate(chars)}\n",
    "stoi['.'] = 0\n",
    "itos = {i: s for s,i in stoi.items()}"
   ]
  },
  {
   "cell_type": "code",
   "execution_count": 5,
   "id": "2ef4d450-b497-41b9-9ab6-1bfcefd1a974",
   "metadata": {},
   "outputs": [
    {
     "name": "stdout",
     "output_type": "stream",
     "text": [
      "The total number of examples or bigrams is:  228146\n"
     ]
    }
   ],
   "source": [
    "#Creating a dataset for neural network\n",
    "\n",
    "xs, ys = [], []\n",
    "\n",
    "for w in words:\n",
    "    chs = ['.'] + list(w) + ['.']\n",
    "    for ch1, ch2 in zip(chs, chs[1:]):\n",
    "        ix1 = stoi[ch1]\n",
    "        ix2 = stoi[ch2]\n",
    "        xs.append(ix1)\n",
    "        ys.append(ix2)\n",
    "\n",
    "xs = torch.tensor(xs)\n",
    "ys = torch.tensor(ys)\n",
    "num = xs.nelement()\n",
    "print(f'The total number of examples or bigrams is:  {num}')"
   ]
  },
  {
   "cell_type": "code",
   "execution_count": 21,
   "id": "9d008755-cf81-4eff-b414-06879795d31d",
   "metadata": {},
   "outputs": [],
   "source": [
    "#Randomly initialize 27 neurons' weights. Each neuron receives 27 inputs.\n",
    "g = torch.Generator().manual_seed(2147483647)\n",
    "W = torch.randn((27,27), generator = g, requires_grad = True)"
   ]
  },
  {
   "cell_type": "code",
   "execution_count": 22,
   "id": "db800d8d-7523-42e4-a4ed-4e4a7de1c1b0",
   "metadata": {},
   "outputs": [
    {
     "name": "stdout",
     "output_type": "stream",
     "text": [
      "2.4738216400146484\n",
      "2.4735772609710693\n",
      "2.4733383655548096\n",
      "2.47310471534729\n",
      "2.4728758335113525\n"
     ]
    }
   ],
   "source": [
    "#Gradient Descent\n",
    "for k in range(100):\n",
    "\n",
    "    #Forward Pass\n",
    "    xenc = F.one_hot(xs, num_classes = 27).float() #input to the network: One Hot Encoding\n",
    "    logits = xenc @ W      #Predict log-counts\n",
    "    counts = logits.exp()  \n",
    "    probs = counts / counts.sum(1, keepdims = True) #Probabilities for next character\n",
    "    \n",
    "    loss = -probs[torch.arange(num), ys].log().mean()  #Negative log likelihood\n",
    "\n",
    "    #Printing loss of last 5 iterations\n",
    "    if k >= 95:\n",
    "        print(loss.item())\n",
    "    else:\n",
    "        pass\n",
    "\n",
    "    #Backward Pass\n",
    "    W.grad = None # Gradient is set to zero\n",
    "    loss.backward()\n",
    "    \n",
    "    #Update\n",
    "    W.data += -50 * W.grad"
   ]
  },
  {
   "cell_type": "code",
   "execution_count": 23,
   "id": "8ebbf9d9-a28a-4fda-8590-f8d8cc84b18c",
   "metadata": {},
   "outputs": [
    {
     "name": "stdout",
     "output_type": "stream",
     "text": [
      "junide.\n",
      "janasah.\n",
      "p.\n",
      "cfay.\n",
      "a.\n"
     ]
    }
   ],
   "source": [
    "#Finally sample from the neural network\n",
    "g = torch.Generator().manual_seed(2147483647)\n",
    "\n",
    "for i in range(5):\n",
    "\n",
    "    out = []\n",
    "    ix = 0\n",
    "    while True:\n",
    "        xenc = F.one_hot(torch.tensor([ix]), num_classes = 27).float()\n",
    "        logits = xenc @ W #Predict log-counts\n",
    "        counts = logits.exp() \n",
    "        p = counts / counts.sum(1, keepdims = True) #Probabilities for next character\n",
    "        \n",
    "        ix = torch.multinomial(p, num_samples= 1, replacement = True, generator = g).item()\n",
    "        out.append(itos[ix])\n",
    "        if ix == 0:\n",
    "            break\n",
    "    print(''.join(out))"
   ]
  },
  {
   "cell_type": "code",
   "execution_count": null,
   "id": "f6c7a74a-2a6a-4cb4-9a88-9b360ddfc116",
   "metadata": {},
   "outputs": [],
   "source": []
  }
 ],
 "metadata": {
  "kernelspec": {
   "display_name": "Python 3 (ipykernel)",
   "language": "python",
   "name": "python3"
  },
  "language_info": {
   "codemirror_mode": {
    "name": "ipython",
    "version": 3
   },
   "file_extension": ".py",
   "mimetype": "text/x-python",
   "name": "python",
   "nbconvert_exporter": "python",
   "pygments_lexer": "ipython3",
   "version": "3.11.5"
  }
 },
 "nbformat": 4,
 "nbformat_minor": 5
}
