{
 "cells": [
  {
   "cell_type": "code",
   "execution_count": 1,
   "id": "f1a24e9f-6bf4-4429-aebb-5f74c4b85410",
   "metadata": {},
   "outputs": [],
   "source": [
    "import torch\n",
    "import torch.nn.functional as F\n",
    "import matplotlib.pyplot as plt\n",
    "%matplotlib inline"
   ]
  },
  {
   "cell_type": "code",
   "execution_count": 2,
   "id": "c04b40d7-af73-41f5-8312-bbb962a21a07",
   "metadata": {},
   "outputs": [
    {
     "data": {
      "text/plain": [
       "['emma', 'olivia', 'ava', 'isabella', 'sophia', 'charlotte', 'mia', 'amelia']"
      ]
     },
     "execution_count": 2,
     "metadata": {},
     "output_type": "execute_result"
    }
   ],
   "source": [
    "words = open('names.txt', 'r').read().splitlines()\n",
    "words[:8]"
   ]
  },
  {
   "cell_type": "code",
   "execution_count": 3,
   "id": "2e5c7651-3e2a-4e0f-8b1f-971e838d67c3",
   "metadata": {},
   "outputs": [
    {
     "name": "stdout",
     "output_type": "stream",
     "text": [
      "{1: 'a', 2: 'b', 3: 'c', 4: 'd', 5: 'e', 6: 'f', 7: 'g', 8: 'h', 9: 'i', 10: 'j', 11: 'k', 12: 'l', 13: 'm', 14: 'n', 15: 'o', 16: 'p', 17: 'q', 18: 'r', 19: 's', 20: 't', 21: 'u', 22: 'v', 23: 'w', 24: 'x', 25: 'y', 26: 'z', 0: '.'}\n",
      "27\n"
     ]
    }
   ],
   "source": [
    "# build the vocabulary of characters and mappings to/from integers\n",
    "chars = sorted(list(set(''.join(words))))\n",
    "stoi = {s: i+1 for i,s in enumerate(chars)}\n",
    "stoi['.'] = 0\n",
    "itos = {i: s for s,i in stoi.items()}\n",
    "vocab_size = len(itos)\n",
    "print(itos)\n",
    "print(vocab_size)"
   ]
  },
  {
   "cell_type": "code",
   "execution_count": 4,
   "id": "7b4b698b-cd60-4af6-b24c-dedcec5cf3c2",
   "metadata": {},
   "outputs": [],
   "source": [
    "# build the dataset\n",
    "\n",
    "block_size = 3    # context length: how many characters do we take to predict the next one?\n",
    "\n",
    "def build_dataset(words):\n",
    "    X, Y = [], []\n",
    "    \n",
    "    for w in words:\n",
    "        context = [0] * block_size\n",
    "        for ch in w + '.':\n",
    "            ix = stoi[ch]\n",
    "            X.append(context)\n",
    "            Y.append(ix)\n",
    "            context = context[1:] + [ix]   # crop and append\n",
    "    \n",
    "    X = torch.tensor(X)\n",
    "    Y = torch.tensor(Y)\n",
    "    return X, Y\n",
    "\n",
    "import random\n",
    "random.seed(42)\n",
    "random.shuffle(words)\n",
    "n1 = int(0.8 * len(words))\n",
    "n2 = int(0.9 * len(words))\n",
    "\n",
    "Xtr, Ytr = build_dataset(words[:n1])      #80%\n",
    "Xdev, Ydev = build_dataset(words[n1:n2])  #10%\n",
    "Xte, Yte = build_dataset(words[n2:])      #10%"
   ]
  },
  {
   "cell_type": "code",
   "execution_count": 5,
   "id": "a44be3bd-ed8e-41c4-818b-dba59a8db708",
   "metadata": {},
   "outputs": [
    {
     "data": {
      "text/plain": [
       "(torch.Size([182625, 3]), torch.Size([182625]))"
      ]
     },
     "execution_count": 5,
     "metadata": {},
     "output_type": "execute_result"
    }
   ],
   "source": [
    "Xtr.shape, Ytr.shape  # Dataset"
   ]
  },
  {
   "cell_type": "code",
   "execution_count": 6,
   "id": "2e8d00a8-becf-4901-8076-2339961fb8b3",
   "metadata": {},
   "outputs": [
    {
     "name": "stdout",
     "output_type": "stream",
     "text": [
      "12097\n"
     ]
    }
   ],
   "source": [
    "n_embd = 10 # the dimensionality of the character embedding vectors\n",
    "n_hidden = 200 #the number of neurons in the hidden layer of the MLP\n",
    "\n",
    "g = torch.Generator().manual_seed(2147483647)   # for reproducibility\n",
    "C = torch.randn((vocab_size, n_embd),             generator = g)  \n",
    "W1 = torch.randn((n_embd * block_size, n_hidden), generator = g) * (5/3) / ((n_embd * block_size)**0.5)\n",
    "#b1 = torch.randn(n_hidden,                        generator = g) * 0.01\n",
    "W2 = torch.randn((n_hidden, vocab_size),          generator = g) * 0.01\n",
    "b2 = torch.randn(vocab_size,                      generator = g) * 0\n",
    "\n",
    "#BatchNorm Parameters\n",
    "bngain = torch.ones((1, n_hidden))\n",
    "bnbias = torch.zeros((1, n_hidden))\n",
    "bnmean_running = torch.zeros((1, n_hidden))\n",
    "bnstd_running = torch.ones((1, n_hidden))\n",
    "\n",
    "parameters = [C, W1, W2, b2, bngain, bnbias,]\n",
    "print(sum(p.nelement() for p in parameters))   # number of parameters in total\n",
    "for p in parameters:\n",
    "    p.requires_grad = True"
   ]
  },
  {
   "cell_type": "code",
   "execution_count": 7,
   "id": "1ce689f6-c1a7-498b-9276-3d6a81ab658c",
   "metadata": {},
   "outputs": [
    {
     "name": "stdout",
     "output_type": "stream",
     "text": [
      "      0/ 200000: 3.2760\n",
      "  10000/ 200000: 2.2798\n",
      "  20000/ 200000: 2.2627\n",
      "  30000/ 200000: 2.1540\n",
      "  40000/ 200000: 2.5208\n",
      "  50000/ 200000: 2.1863\n",
      "  60000/ 200000: 2.0329\n",
      "  70000/ 200000: 2.3750\n",
      "  80000/ 200000: 2.0455\n",
      "  90000/ 200000: 2.0192\n",
      " 100000/ 200000: 2.2307\n",
      " 110000/ 200000: 2.1016\n",
      " 120000/ 200000: 2.0444\n",
      " 130000/ 200000: 2.2681\n",
      " 140000/ 200000: 2.1495\n",
      " 150000/ 200000: 1.8622\n",
      " 160000/ 200000: 2.0257\n",
      " 170000/ 200000: 1.5726\n",
      " 180000/ 200000: 1.8812\n",
      " 190000/ 200000: 1.9315\n"
     ]
    }
   ],
   "source": [
    "max_steps = 200000\n",
    "lossi = []\n",
    "batch_size = 32\n",
    "\n",
    "for i in range(max_steps):\n",
    "    \n",
    "    #minibatch construct\n",
    "    ix = torch.randint(0, Xtr.shape[0], (batch_size,))\n",
    "    Xb, Yb = Xtr[ix], Ytr[ix]  #batch X, Y\n",
    "    \n",
    "    # Forward Pass\n",
    "    emb = C[Xb]  # Embed characters into vectors\n",
    "    embcat = emb.view(emb.shape[0], -1)  #Concatenate the vectors\n",
    "    hpreact = embcat @ W1 #+ b1   #hidden layer pre-activation\n",
    "\n",
    "    #BatchNorm layer\n",
    "    #-------------------------------------------------------------\n",
    "    bnmeani = hpreact.mean(0, keepdims= True)\n",
    "    bnstdi = hpreact.std(0, keepdims= True)\n",
    "    hpreact = bngain * ((hpreact - bnmeani) / bnstdi) + bnbias\n",
    "    with torch.no_grad():\n",
    "        bnmean_running = 0.999 * bnmean_running + 0.001 * bnmeani\n",
    "        bnstd_running = 0.999 * bnstd_running + 0.001 * bnstdi\n",
    "    #-------------------------------------------------------------\n",
    "\n",
    "    #Non-Linearity\n",
    "    h = torch.tanh(hpreact)  # hidden layer\n",
    "    logits = h @ W2 + b2    # output layer\n",
    "    loss = F.cross_entropy(logits, Yb)  #loss   \n",
    "    \n",
    "    # Backward Pass\n",
    "    for p in parameters:\n",
    "        p.grad = None\n",
    "    loss.backward()\n",
    "    \n",
    "    # Update the parameters\n",
    "    lr = 0.1 if i < 100000 else 0.01\n",
    "    for p in parameters:\n",
    "        p.data += -lr * p.grad\n",
    "\n",
    "    #Trach stats\n",
    "    if i%10000 == 0:  #print every once in a while\n",
    "        print(f'{i:7d}/{max_steps:7d}: {loss.item():.4f}')\n",
    "    lossi.append(loss.log10().item())"
   ]
  },
  {
   "cell_type": "code",
   "execution_count": 8,
   "id": "43360624-f347-4948-bd6c-6284412d9298",
   "metadata": {},
   "outputs": [
    {
     "name": "stdout",
     "output_type": "stream",
     "text": [
      "train 2.065136194229126\n",
      "val 2.105121612548828\n"
     ]
    }
   ],
   "source": [
    "@torch.no_grad()  #this decorator disables the gradient tracking\n",
    "def split_loss(split):\n",
    "    x, y = {\n",
    "        'test': (Xte, Yte),\n",
    "        'train': (Xtr, Ytr),\n",
    "        'val': (Xdev, Ydev)\n",
    "    }[split]\n",
    "    emb = C[x]  #(N, block_size, n_embd)\n",
    "    embcat = emb.view(emb.shape[0], -1)  #concat into (N, block_size * n_embd)\n",
    "    hpreact = embcat @ W1 #+ b1\n",
    "    hpreact = bngain * ((hpreact - bnmean_running) / bnstd_running) + bnbias\n",
    "    h = torch.tanh(hpreact)  #(N, n_hidden)\n",
    "    logits = h @ W2 + b2  #(N, vocab_size)\n",
    "    loss = F.cross_entropy(logits, y)\n",
    "    print(split, loss.item())\n",
    "\n",
    "split_loss('train')\n",
    "split_loss('val')"
   ]
  },
  {
   "cell_type": "code",
   "execution_count": 9,
   "id": "222e9904-5b2d-44a6-9d32-bc92d61dc2af",
   "metadata": {},
   "outputs": [
    {
     "name": "stdout",
     "output_type": "stream",
     "text": [
      "mora.\n",
      "mayah.\n",
      "see.\n",
      "med.\n",
      "ryla.\n",
      "reisha.\n",
      "ejdrie.\n",
      "caileed.\n",
      "eliah.\n",
      "milopileigh.\n",
      "estanara.\n",
      "mykimhone.\n",
      "cayshabergihiriel.\n",
      "kindreelynn.\n",
      "novana.\n",
      "ubented.\n",
      "ryylani.\n",
      "els.\n",
      "kayshayton.\n",
      "mahil.\n"
     ]
    }
   ],
   "source": [
    "# Sample from the model\n",
    "\n",
    "g = torch.Generator().manual_seed(2147483647 + 10)\n",
    "\n",
    "for _ in range(10):\n",
    "\n",
    "    out = []\n",
    "    context = [0] * block_size # Initialize with all ...\n",
    "    while True:\n",
    "        emb = C[torch.tensor([context])]  # (1, block_size, d)\n",
    "        embcat = emb.view(emb.shape[0], -1)  #concat into (N, block_size * n_embd)\n",
    "        hpreact = embcat @ W1 #+ b1\n",
    "        hpreact = bngain * ((hpreact - bnmean_running) / bnstd_running) + bnbias\n",
    "        h = torch.tanh(hpreact)\n",
    "        logits = h @ W2 + b2\n",
    "        probs = F.softmax(logits, dim = 1)\n",
    "        ix = torch.multinomial(probs, num_samples = 1, generator = g).item()\n",
    "        context = context[1:] + [ix]\n",
    "        out.append(ix)\n",
    "        if ix == 0:\n",
    "            break\n",
    "\n",
    "    print(''.join(itos[i] for i in out))"
   ]
  },
  {
   "cell_type": "code",
   "execution_count": null,
   "id": "18b81010-bc28-4522-ba1c-0afb2968ae58",
   "metadata": {},
   "outputs": [],
   "source": []
  }
 ],
 "metadata": {
  "kernelspec": {
   "display_name": "Python 3 (ipykernel)",
   "language": "python",
   "name": "python3"
  },
  "language_info": {
   "codemirror_mode": {
    "name": "ipython",
    "version": 3
   },
   "file_extension": ".py",
   "mimetype": "text/x-python",
   "name": "python",
   "nbconvert_exporter": "python",
   "pygments_lexer": "ipython3",
   "version": "3.11.5"
  }
 },
 "nbformat": 4,
 "nbformat_minor": 5
}
